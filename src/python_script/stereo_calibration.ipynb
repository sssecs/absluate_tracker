{
 "cells": [
  {
   "cell_type": "code",
   "execution_count": 2,
   "metadata": {},
   "outputs": [
    {
     "name": "stdout",
     "output_type": "stream",
     "text": [
      "Using matplotlib backend: TkAgg\n"
     ]
    }
   ],
   "source": [
    "%matplotlib auto\n",
    "import matplotlib.pyplot as plt\n",
    "import cv2\n",
    "import glob\n",
    "import numpy as np\n"
   ]
  },
  {
   "cell_type": "code",
   "execution_count": 23,
   "metadata": {},
   "outputs": [],
   "source": [
    "images_folder = '/home/sykes/absluate_tracker/data/tracker_calibration_images/camera1/*'\n",
    "images_names = sorted(glob.glob(images_folder))\n",
    "images = []\n",
    "for imname in images_names:\n",
    "    im = cv.imread(imname, 1)\n",
    "    images.append(im)    \n",
    "\n",
    "chessboardSize = (5,8)\n",
    "frameSize = (1920,1080)\n"
   ]
  },
  {
   "cell_type": "code",
   "execution_count": 25,
   "metadata": {},
   "outputs": [],
   "source": [
    "criteria = (cv.TERM_CRITERIA_EPS + cv.TERM_CRITERIA_MAX_ITER, 30, 0.001)\n",
    "\n",
    "\n",
    "# prepare object points, like (0,0,0), (1,0,0), (2,0,0) ....,(6,5,0)\n",
    "objp = np.zeros((chessboardSize[0] * chessboardSize[1], 3), np.float32)\n",
    "objp[:,:2] = np.mgrid[0:chessboardSize[0],0:chessboardSize[1]].T.reshape(-1,2)\n",
    "\n",
    "size_of_chessboard_squares_mm = 50\n",
    "objp = objp * size_of_chessboard_squares_mm"
   ]
  },
  {
   "cell_type": "code",
   "execution_count": 26,
   "metadata": {},
   "outputs": [],
   "source": [
    "objpoints = [] # 3d point in real world space\n",
    "imgpoints = [] # 2d points in image plane.\n",
    "for img in images:\n",
    "\n",
    "    gray = cv2.cvtColor(img, cv2.COLOR_BGR2GRAY)\n",
    "\n",
    "    # Find the chess board corners\n",
    "    ret, corners = cv2.findChessboardCorners(gray, chessboardSize, None)\n",
    "\n",
    "    # If found, add object points, image points (after refining them)\n",
    "    if ret == True:\n",
    "        objpoints.append(objp)\n",
    "        corners2 = cv2.cornerSubPix(gray, corners, (11,11), (-1,-1), criteria)\n",
    "        imgpoints.append(corners2)\n",
    "\n",
    "        # Draw and display the corners\n",
    "        cv2.drawChessboardCorners(img, chessboardSize, corners2, ret)\n",
    "        cv2.imshow('img', img)\n",
    "        cv2.waitKey(1000)\n",
    "\n",
    "\n",
    "cv2.destroyAllWindows()"
   ]
  },
  {
   "cell_type": "code",
   "execution_count": 31,
   "metadata": {},
   "outputs": [],
   "source": [
    "ret, cameraMatrix, dist, rvecs, tvecs = cv.calibrateCamera(objpoints, imgpoints, frameSize, None, None)"
   ]
  },
  {
   "cell_type": "code",
   "execution_count": 3,
   "metadata": {},
   "outputs": [
    {
     "name": "stdout",
     "output_type": "stream",
     "text": [
      "centroid: X:743, Y:496\n"
     ]
    }
   ],
   "source": [
    "image = cv2.imread('/home/sykes/absluate_tracker/data/tracker_calibration_images/camera1/image15.png')\n",
    "b,g,image_r = cv2.split(image)\n",
    "img = cv2.inRange(image_r,240,255)\n",
    "contours, hierarchy = cv2.findContours(img,cv2.RETR_TREE,cv2.CHAIN_APPROX_SIMPLE)\n",
    "\n",
    "\n",
    "for c in contours:\n",
    "   # calculate moments for each contour\n",
    "   M = cv2.moments(c)\n",
    "\n",
    "   # calculate x,y coordinate of center\n",
    "   cX = int(M[\"m10\"] / M[\"m00\"])\n",
    "   cY = int(M[\"m01\"] / M[\"m00\"])\n",
    "   print('centroid: X:{}, Y:{}'.format(cX, cY)) \n",
    "   cv2.circle(img, (cX, cY), 5, (255, 255, 255), -1)\n",
    "   cv2.putText(img, \"centroid\", (cX -25, cY -25),cv2.FONT_HERSHEY_SIMPLEX, 0.5, (255, 255, 255), 2)\n",
    "\n",
    "   # display the image\n",
    "   cv2.imshow(\"Image\", img)\n",
    "   cv2.waitKey(0)\n"
   ]
  },
  {
   "cell_type": "code",
   "execution_count": 4,
   "metadata": {},
   "outputs": [
    {
     "data": {
      "text/plain": [
       "(array([[[741, 492]],\n",
       " \n",
       "        [[739, 494]],\n",
       " \n",
       "        [[739, 498]],\n",
       " \n",
       "        [[741, 500]],\n",
       " \n",
       "        [[745, 500]],\n",
       " \n",
       "        [[747, 498]],\n",
       " \n",
       "        [[747, 494]],\n",
       " \n",
       "        [[745, 492]]], dtype=int32),)"
      ]
     },
     "execution_count": 4,
     "metadata": {},
     "output_type": "execute_result"
    },
    {
     "ename": "",
     "evalue": "",
     "output_type": "error",
     "traceback": [
      "\u001b[1;31mThe Kernel crashed while executing code in the the current cell or a previous cell. Please review the code in the cell(s) to identify a possible cause of the failure. Click <a href='https://aka.ms/vscodeJupyterKernelCrash'>here</a> for more info. View Jupyter <a href='command:jupyter.viewOutput'>log</a> for further details."
     ]
    }
   ],
   "source": [
    "contours"
   ]
  }
 ],
 "metadata": {
  "kernelspec": {
   "display_name": "cv",
   "language": "python",
   "name": "python3"
  },
  "language_info": {
   "codemirror_mode": {
    "name": "ipython",
    "version": 3
   },
   "file_extension": ".py",
   "mimetype": "text/x-python",
   "name": "python",
   "nbconvert_exporter": "python",
   "pygments_lexer": "ipython3",
   "version": "3.8.10"
  }
 },
 "nbformat": 4,
 "nbformat_minor": 2
}
