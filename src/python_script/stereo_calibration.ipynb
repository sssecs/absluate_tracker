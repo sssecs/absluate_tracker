{
 "cells": [
  {
   "cell_type": "code",
   "execution_count": 2,
   "metadata": {},
   "outputs": [
    {
     "name": "stdout",
     "output_type": "stream",
     "text": [
      "Using matplotlib backend: <object object at 0x7f610c96cdd0>\n"
     ]
    }
   ],
   "source": [
    "%matplotlib auto\n",
    "import matplotlib.pyplot as plt\n",
    "import cv2\n",
    "import glob\n",
    "import numpy as np\n",
    "import pickle"
   ]
  },
  {
   "cell_type": "code",
   "execution_count": 23,
   "metadata": {},
   "outputs": [],
   "source": [
    "images_folder = '/home/sykes/absluate_tracker/data/tracker_calibration_images/camera1/*'\n",
    "images_names = sorted(glob.glob(images_folder))\n",
    "images = []\n",
    "for imname in images_names:\n",
    "    im = cv.imread(imname, 1)\n",
    "    images.append(im)    \n",
    "\n",
    "chessboardSize = (5,8)\n",
    "frameSize = (1920,1080)\n"
   ]
  },
  {
   "cell_type": "code",
   "execution_count": 25,
   "metadata": {},
   "outputs": [],
   "source": [
    "criteria = (cv.TERM_CRITERIA_EPS + cv.TERM_CRITERIA_MAX_ITER, 30, 0.001)\n",
    "\n",
    "\n",
    "# prepare object points, like (0,0,0), (1,0,0), (2,0,0) ....,(6,5,0)\n",
    "objp = np.zeros((chessboardSize[0] * chessboardSize[1], 3), np.float32)\n",
    "objp[:,:2] = np.mgrid[0:chessboardSize[0],0:chessboardSize[1]].T.reshape(-1,2)\n",
    "\n",
    "size_of_chessboard_squares_mm = 50\n",
    "objp = objp * size_of_chessboard_squares_mm"
   ]
  },
  {
   "cell_type": "code",
   "execution_count": 26,
   "metadata": {},
   "outputs": [],
   "source": [
    "objpoints = [] # 3d point in real world space\n",
    "imgpoints = [] # 2d points in image plane.\n",
    "for img in images:\n",
    "\n",
    "    gray = cv2.cvtColor(img, cv2.COLOR_BGR2GRAY)\n",
    "\n",
    "    # Find the chess board corners\n",
    "    ret, corners = cv2.findChessboardCorners(gray, chessboardSize, None)\n",
    "\n",
    "    # If found, add object points, image points (after refining them)\n",
    "    if ret == True:\n",
    "        objpoints.append(objp)\n",
    "        corners2 = cv2.cornerSubPix(gray, corners, (11,11), (-1,-1), criteria)\n",
    "        imgpoints.append(corners2)\n",
    "\n",
    "        # Draw and display the corners\n",
    "        cv2.drawChessboardCorners(img, chessboardSize, corners2, ret)\n",
    "        cv2.imshow('img', img)\n",
    "        cv2.waitKey(1000)\n",
    "\n",
    "\n",
    "cv2.destroyAllWindows()"
   ]
  },
  {
   "cell_type": "code",
   "execution_count": 31,
   "metadata": {},
   "outputs": [],
   "source": [
    "ret, cameraMatrix, dist, rvecs, tvecs = cv.calibrateCamera(objpoints, imgpoints, frameSize, None, None)"
   ]
  },
  {
   "cell_type": "code",
   "execution_count": 3,
   "metadata": {},
   "outputs": [
    {
     "name": "stdout",
     "output_type": "stream",
     "text": [
      "centroid: X:743, Y:496\n"
     ]
    }
   ],
   "source": [
    "image = cv2.imread('/home/sykes/absluate_tracker/data/tracker_calibration_images/camera1/image15.png')\n",
    "b,g,image_r = cv2.split(image)\n",
    "img = cv2.inRange(image_r,240,255)\n",
    "contours, hierarchy = cv2.findContours(img,cv2.RETR_TREE,cv2.CHAIN_APPROX_SIMPLE)\n",
    "\n",
    "\n",
    "for c in contours:\n",
    "   # calculate moments for each contour\n",
    "   M = cv2.moments(c)\n",
    "\n",
    "   # calculate x,y coordinate of center\n",
    "   cX = int(M[\"m10\"] / M[\"m00\"])\n",
    "   cY = int(M[\"m01\"] / M[\"m00\"])\n",
    "   print('centroid: X:{}, Y:{}'.format(cX, cY)) \n",
    "   cv2.circle(img, (cX, cY), 5, (255, 255, 255), -1)\n",
    "   cv2.putText(img, \"centroid\", (cX -25, cY -25),cv2.FONT_HERSHEY_SIMPLEX, 0.5, (255, 255, 255), 2)\n",
    "\n",
    "   # display the image\n",
    "   cv2.imshow(\"Image\", img)\n",
    "   cv2.waitKey(0)\n"
   ]
  },
  {
   "cell_type": "code",
   "execution_count": 4,
   "metadata": {},
   "outputs": [
    {
     "data": {
      "text/plain": [
       "(array([[[741, 492]],\n",
       " \n",
       "        [[739, 494]],\n",
       " \n",
       "        [[739, 498]],\n",
       " \n",
       "        [[741, 500]],\n",
       " \n",
       "        [[745, 500]],\n",
       " \n",
       "        [[747, 498]],\n",
       " \n",
       "        [[747, 494]],\n",
       " \n",
       "        [[745, 492]]], dtype=int32),)"
      ]
     },
     "execution_count": 4,
     "metadata": {},
     "output_type": "execute_result"
    },
    {
     "ename": "",
     "evalue": "",
     "output_type": "error",
     "traceback": [
      "\u001b[1;31mThe Kernel crashed while executing code in the the current cell or a previous cell. Please review the code in the cell(s) to identify a possible cause of the failure. Click <a href='https://aka.ms/vscodeJupyterKernelCrash'>here</a> for more info. View Jupyter <a href='command:jupyter.viewOutput'>log</a> for further details."
     ]
    }
   ],
   "source": [
    "contours"
   ]
  },
  {
   "cell_type": "code",
   "execution_count": 3,
   "metadata": {},
   "outputs": [],
   "source": [
    "file = open('/home/sykes/absluate_tracker/data/data.pickle', 'rb')\n",
    "data = pickle.load(file)"
   ]
  },
  {
   "cell_type": "code",
   "execution_count": 4,
   "metadata": {},
   "outputs": [
    {
     "data": {
      "text/plain": [
       "[array([[977., 611.],\n",
       "        [964., 594.],\n",
       "        [936., 609.],\n",
       "        [958., 627.]]),\n",
       " array([[ 843.,  513.],\n",
       "        [ 815.,  702.],\n",
       "        [1085.,  720.],\n",
       "        [1092.,  527.]]),\n",
       " array([[ 686.,  618.],\n",
       "        [ 973.,  834.],\n",
       "        [1225.,  603.],\n",
       "        [ 951.,  434.]]),\n",
       " array([[ 671.,  534.],\n",
       "        [ 974.,  753.],\n",
       "        [1240.,  519.],\n",
       "        [ 951.,  350.]]),\n",
       " array([[ 801.,  452.],\n",
       "        [ 842.,  647.],\n",
       "        [1128.,  609.],\n",
       "        [1064.,  421.]]),\n",
       " array([[ 896.,  519.],\n",
       "        [ 953.,  569.],\n",
       "        [1018.,  534.],\n",
       "        [ 970.,  486.]]),\n",
       " array([[ 894.,  465.],\n",
       "        [ 952.,  514.],\n",
       "        [1020.,  479.],\n",
       "        [ 970.,  431.]]),\n",
       " array([[ 951.,  427.],\n",
       "        [ 895.,  474.],\n",
       "        [ 962.,  519.],\n",
       "        [1027.,  469.]]),\n",
       " array([[ 878.,  379.],\n",
       "        [ 812.,  529.],\n",
       "        [1046.,  577.],\n",
       "        [1100.,  419.]]),\n",
       " array([[ 800.,  428.],\n",
       "        [ 890.,  588.],\n",
       "        [1123.,  519.],\n",
       "        [1023.,  371.]]),\n",
       " array([[ 793.,  358.],\n",
       "        [ 887.,  518.],\n",
       "        [1130.,  449.],\n",
       "        [1025.,  302.]]),\n",
       " array([[ 613.,  237.],\n",
       "        [ 613.,  701.],\n",
       "        [1400.,  617.],\n",
       "        [1207.,  190.]]),\n",
       " array([[ 756.,  166.],\n",
       "        [ 474.,  571.],\n",
       "        [1252.,  754.],\n",
       "        [1356.,  264.]]),\n",
       " array([[ 878.,  105.],\n",
       "        [ 359.,  465.],\n",
       "        [1087.,  907.],\n",
       "        [1515.,  344.]]),\n",
       " array([[1285.,  320.],\n",
       "        [ 849.,  206.],\n",
       "        [ 586.,  494.],\n",
       "        [1118.,  671.]]),\n",
       " array([[1011.,  517.],\n",
       "        [1125.,  370.],\n",
       "        [ 910.,  303.],\n",
       "        [ 791.,  437.]]),\n",
       " array([[ 674.,  290.],\n",
       "        [ 743.,  628.],\n",
       "        [1290.,  537.],\n",
       "        [1127.,  230.]]),\n",
       " array([[ 471.,  398.],\n",
       "        [ 951.,  802.],\n",
       "        [1445.,  408.],\n",
       "        [ 967.,  145.]]),\n",
       " array([[ 434.,  264.],\n",
       "        [ 950.,  668.],\n",
       "        [1483.,  274.],\n",
       "        [ 968.,   20.]]),\n",
       " array([[ 620.,  125.],\n",
       "        [ 663.,  512.],\n",
       "        [1376.,  419.],\n",
       "        [1175.,   70.]]),\n",
       " array([[ 736.,   72.],\n",
       "        [ 549.,  420.],\n",
       "        [1262.,  511.],\n",
       "        [1290.,  123.]]),\n",
       " array([[ 938.,  183.],\n",
       "        [ 832.,  264.],\n",
       "        [ 976.,  336.],\n",
       "        [1090.,  246.]]),\n",
       " array([[ 941.,  449.],\n",
       "        [ 850.,  533.],\n",
       "        [ 973.,  607.],\n",
       "        [1071.,  514.]]),\n",
       " array([[1184.,  611.],\n",
       "        [1072.,  385.],\n",
       "        [ 752.,  445.],\n",
       "        [ 828.,  692.]]),\n",
       " array([[1026.,  742.],\n",
       "        [1230.,  482.],\n",
       "        [ 903.,  353.],\n",
       "        [ 678.,  568.]]),\n",
       " array([[ 660.,  461.],\n",
       "        [ 852.,  772.],\n",
       "        [1279.,  593.],\n",
       "        [1043.,  335.]]),\n",
       " array([[ 933.,  298.],\n",
       "        [ 582.,  540.],\n",
       "        [ 988.,  841.],\n",
       "        [1333.,  507.]]),\n",
       " array([[ 931.,  184.],\n",
       "        [ 554.,  422.],\n",
       "        [ 991.,  726.],\n",
       "        [1360.,  389.]]),\n",
       " array([[1237.,  353.],\n",
       "        [ 889.,  238.],\n",
       "        [ 653.,  463.],\n",
       "        [1057.,  625.]]),\n",
       " array([[ 987.,  532.],\n",
       "        [1140.,  387.],\n",
       "        [ 931.,  299.],\n",
       "        [ 778.,  426.]]),\n",
       " array([[ 983.,  756.],\n",
       "        [1117.,  613.],\n",
       "        [ 934.,  523.],\n",
       "        [ 802.,  651.]])]"
      ]
     },
     "execution_count": 4,
     "metadata": {},
     "output_type": "execute_result"
    }
   ],
   "source": [
    "data"
   ]
  }
 ],
 "metadata": {
  "kernelspec": {
   "display_name": "cv",
   "language": "python",
   "name": "python3"
  },
  "language_info": {
   "codemirror_mode": {
    "name": "ipython",
    "version": 3
   },
   "file_extension": ".py",
   "mimetype": "text/x-python",
   "name": "python",
   "nbconvert_exporter": "python",
   "pygments_lexer": "ipython3",
   "version": "3.11.5"
  }
 },
 "nbformat": 4,
 "nbformat_minor": 2
}
