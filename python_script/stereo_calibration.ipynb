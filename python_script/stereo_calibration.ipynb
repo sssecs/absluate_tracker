{
 "cells": [
  {
   "cell_type": "code",
   "execution_count": 1,
   "metadata": {},
   "outputs": [
    {
     "name": "stdout",
     "output_type": "stream",
     "text": [
      "Using matplotlib backend: TkAgg\n"
     ]
    }
   ],
   "source": [
    "%matplotlib auto\n",
    "import matplotlib.pyplot as plt\n",
    "import cv2\n",
    "import glob\n",
    "import numpy as np\n",
    "import pickle\n"
   ]
  },
  {
   "cell_type": "code",
   "execution_count": 2,
   "metadata": {},
   "outputs": [],
   "source": [
    "images_folder = '/home/sykes/absluate_tracker/data/tracker_calibration_images/camera1/*'\n",
    "images_names = sorted(glob.glob(images_folder))\n",
    "images = []\n",
    "for imname in images_names:\n",
    "    im = cv2.imread(imname, 1)\n",
    "    images.append(im)    \n",
    "\n",
    "chessboardSize = (5,8)\n",
    "frameSize = (1920,1080)\n"
   ]
  },
  {
   "cell_type": "code",
   "execution_count": 3,
   "metadata": {},
   "outputs": [],
   "source": [
    "criteria = (cv2.TERM_CRITERIA_EPS + cv2.TERM_CRITERIA_MAX_ITER, 30, 0.001)\n",
    "\n",
    "\n",
    "# prepare object points, like (0,0,0), (1,0,0), (2,0,0) ....,(6,5,0)\n",
    "objp = np.zeros((chessboardSize[0] * chessboardSize[1], 3), np.float32)\n",
    "objp[:,:2] = np.mgrid[0:chessboardSize[0],0:chessboardSize[1]].T.reshape(-1,2)\n",
    "\n",
    "size_of_chessboard_squares_mm = 50\n",
    "objp = objp * size_of_chessboard_squares_mm"
   ]
  },
  {
   "cell_type": "code",
   "execution_count": 4,
   "metadata": {},
   "outputs": [],
   "source": [
    "objpoints = [] # 3d point in real world space\n",
    "imgpoints = [] # 2d points in image plane.\n",
    "for img in images:\n",
    "\n",
    "    gray = cv2.cvtColor(img, cv2.COLOR_BGR2GRAY)\n",
    "\n",
    "    # Find the chess board corners\n",
    "    ret, corners = cv2.findChessboardCorners(gray, chessboardSize, None)\n",
    "\n",
    "    # If found, add object points, image points (after refining them)\n",
    "    if ret == True:\n",
    "        objpoints.append(objp)\n",
    "        corners2 = cv2.cornerSubPix(gray, corners, (11,11), (-1,-1), criteria)\n",
    "        imgpoints.append(corners2)\n",
    "\n",
    "        # Draw and display the corners\n",
    "        cv2.drawChessboardCorners(img, chessboardSize, corners2, ret)\n",
    "        cv2.imshow('img', img)\n",
    "        cv2.waitKey(1000)\n",
    "\n",
    "\n",
    "cv2.destroyAllWindows()"
   ]
  },
  {
   "cell_type": "code",
   "execution_count": 5,
   "metadata": {},
   "outputs": [
    {
     "data": {
      "text/plain": [
       "(15, 40, 3)"
      ]
     },
     "execution_count": 5,
     "metadata": {},
     "output_type": "execute_result"
    }
   ],
   "source": [
    "np.array(objpoints).shape"
   ]
  },
  {
   "cell_type": "code",
   "execution_count": 6,
   "metadata": {},
   "outputs": [
    {
     "data": {
      "text/plain": [
       "(15, 40, 1, 2)"
      ]
     },
     "execution_count": 6,
     "metadata": {},
     "output_type": "execute_result"
    }
   ],
   "source": [
    "np.array(imgpoints).shape"
   ]
  },
  {
   "cell_type": "code",
   "execution_count": 8,
   "metadata": {},
   "outputs": [
    {
     "data": {
      "text/plain": [
       "array([[[ 980.98956,  346.1916 ]],\n",
       "\n",
       "       [[1018.0544 ,  368.67   ]],\n",
       "\n",
       "       [[1056.2894 ,  392.18884]],\n",
       "\n",
       "       [[1095.8727 ,  416.31882]],\n",
       "\n",
       "       [[1136.8252 ,  441.28934]],\n",
       "\n",
       "       [[ 944.83484,  368.9001 ]],\n",
       "\n",
       "       [[ 982.0056 ,  392.37885]],\n",
       "\n",
       "       [[1020.2695 ,  416.46667]],\n",
       "\n",
       "       [[1059.996  ,  441.4643 ]],\n",
       "\n",
       "       [[1101.0292 ,  467.34396]],\n",
       "\n",
       "       [[ 907.4883 ,  392.49307]],\n",
       "\n",
       "       [[ 944.70325,  416.59308]],\n",
       "\n",
       "       [[ 983.0803 ,  441.6033 ]],\n",
       "\n",
       "       [[1022.66205,  467.4984 ]],\n",
       "\n",
       "       [[1063.7106 ,  494.33002]],\n",
       "\n",
       "       [[ 869.0688 ,  416.7777 ]],\n",
       "\n",
       "       [[ 906.07855,  441.79947]],\n",
       "\n",
       "       [[ 944.38684,  467.7484 ]],\n",
       "\n",
       "       [[ 984.1406 ,  494.5361 ]],\n",
       "\n",
       "       [[1025.348  ,  522.3407 ]],\n",
       "\n",
       "       [[ 829.0181 ,  442.03604]],\n",
       "\n",
       "       [[ 866.0934 ,  467.9026 ]],\n",
       "\n",
       "       [[ 904.4796 ,  494.65686]],\n",
       "\n",
       "       [[ 944.1896 ,  522.46   ]],\n",
       "\n",
       "       [[ 985.37054,  551.3034 ]],\n",
       "\n",
       "       [[ 787.65784,  468.1888 ]],\n",
       "\n",
       "       [[ 824.6401 ,  494.87662]],\n",
       "\n",
       "       [[ 862.94257,  522.61694]],\n",
       "\n",
       "       [[ 902.7113 ,  551.4727 ]],\n",
       "\n",
       "       [[ 943.9117 ,  581.3764 ]],\n",
       "\n",
       "       [[ 744.98175,  495.20508]],\n",
       "\n",
       "       [[ 781.77234,  522.81934]],\n",
       "\n",
       "       [[ 819.99115,  551.6249 ]],\n",
       "\n",
       "       [[ 859.7177 ,  581.56415]],\n",
       "\n",
       "       [[ 900.8765 ,  612.57227]],\n",
       "\n",
       "       [[ 700.61444,  523.1329 ]],\n",
       "\n",
       "       [[ 737.39703,  551.93384]],\n",
       "\n",
       "       [[ 775.4404 ,  581.73596]],\n",
       "\n",
       "       [[ 815.0255 ,  612.7839 ]],\n",
       "\n",
       "       [[ 856.1419 ,  645.1206 ]]], dtype=float32)"
      ]
     },
     "execution_count": 8,
     "metadata": {},
     "output_type": "execute_result"
    }
   ],
   "source": [
    "imgpoints[0]"
   ]
  },
  {
   "cell_type": "code",
   "execution_count": 18,
   "metadata": {},
   "outputs": [],
   "source": [
    "ret, cameraMatrix, dist, rvecs, tvecs = cv2.calibrateCamera(objpoints, imgpoints, frameSize, None, None)"
   ]
  },
  {
   "cell_type": "code",
   "execution_count": 93,
   "metadata": {},
   "outputs": [
    {
     "name": "stdout",
     "output_type": "stream",
     "text": [
      "centroid: X:743, Y:496\n"
     ]
    }
   ],
   "source": [
    "image = cv2.imread('/home/sykes/absluate_tracker/data/tracker_calibration_images/camera1/image15.png')\n",
    "b,g,image_r = cv2.split(image)\n",
    "img = cv2.inRange(image_r,240,255)\n",
    "contours, hierarchy = cv2.findContours(img,cv2.RETR_TREE,cv2.CHAIN_APPROX_SIMPLE)\n",
    "\n",
    "\n",
    "for c in contours:\n",
    "   # calculate moments for each contour\n",
    "   M = cv2.moments(c)\n",
    "\n",
    "   # calculate x,y coordinate of center\n",
    "   cX = int(M[\"m10\"] / M[\"m00\"])\n",
    "   cY = int(M[\"m01\"] / M[\"m00\"])\n",
    "   print('centroid: X:{}, Y:{}'.format(cX, cY)) \n",
    "   cv2.circle(img, (cX, cY), 5, (255, 255, 255), -1)\n",
    "   cv2.putText(img, \"centroid\", (cX -25, cY -25),cv2.FONT_HERSHEY_SIMPLEX, 0.5, (255, 255, 255), 2)\n",
    "\n",
    "   # display the image\n",
    "   cv2.imshow(\"Image\", img)\n",
    "   cv2.waitKey(0)\n"
   ]
  },
  {
   "cell_type": "code",
   "execution_count": 9,
   "metadata": {},
   "outputs": [],
   "source": [
    "with open (\"/home/sykes/absluate_tracker/data/data.pickle\", 'rb') as f: \n",
    "    data = np.array(pickle.load(f))"
   ]
  },
  {
   "cell_type": "code",
   "execution_count": 12,
   "metadata": {},
   "outputs": [],
   "source": [
    "objp = np.zeros((len(data),1, 3), np.float32)"
   ]
  },
  {
   "cell_type": "code",
   "execution_count": 14,
   "metadata": {},
   "outputs": [
    {
     "data": {
      "text/plain": [
       "(31, 1, 3)"
      ]
     },
     "execution_count": 14,
     "metadata": {},
     "output_type": "execute_result"
    }
   ],
   "source": [
    "objp.shape"
   ]
  },
  {
   "cell_type": "code",
   "execution_count": 15,
   "metadata": {},
   "outputs": [],
   "source": [
    "imgpoints1 = []\n",
    "imgpoints2 = []\n",
    "for points in data:\n",
    "    imgpoints1.append([[points[0]]])\n",
    "    imgpoints2.append([[points[1]]])\n",
    "imgpoints2 = np.array(imgpoints2,np.float32)\n",
    "imgpoints1 = np.array(imgpoints1,np.float32)"
   ]
  },
  {
   "cell_type": "code",
   "execution_count": 21,
   "metadata": {},
   "outputs": [
    {
     "data": {
      "text/plain": [
       "(31, 1, 1, 2)"
      ]
     },
     "execution_count": 21,
     "metadata": {},
     "output_type": "execute_result"
    }
   ],
   "source": [
    "imgpoints2.shape"
   ]
  },
  {
   "cell_type": "code",
   "execution_count": 22,
   "metadata": {},
   "outputs": [
    {
     "ename": "error",
     "evalue": "OpenCV(4.9.0) /io/opencv/modules/calib3d/src/calibration.cpp:1088: error: (-215:Assertion failed) (count >= 4) || (count == 3 && useExtrinsicGuess) in function 'cvFindExtrinsicCameraParams2'\n",
     "output_type": "error",
     "traceback": [
      "\u001b[0;31m---------------------------------------------------------------------------\u001b[0m",
      "\u001b[0;31merror\u001b[0m                                     Traceback (most recent call last)",
      "Cell \u001b[0;32mIn[22], line 2\u001b[0m\n\u001b[1;32m      1\u001b[0m criteria \u001b[38;5;241m=\u001b[39m (cv2\u001b[38;5;241m.\u001b[39mTERM_CRITERIA_EPS \u001b[38;5;241m+\u001b[39m cv2\u001b[38;5;241m.\u001b[39mTERM_CRITERIA_MAX_ITER, \u001b[38;5;241m30\u001b[39m, \u001b[38;5;241m0.01\u001b[39m)\n\u001b[0;32m----> 2\u001b[0m R, T, E, F \u001b[38;5;241m=\u001b[39m \u001b[43mcv2\u001b[49m\u001b[38;5;241;43m.\u001b[39;49m\u001b[43mstereoCalibrate\u001b[49m\u001b[43m(\u001b[49m\n\u001b[1;32m      3\u001b[0m \u001b[43m    \u001b[49m\u001b[43mobjp\u001b[49m\u001b[43m,\u001b[49m\u001b[43m \u001b[49m\u001b[43mimgpoints1\u001b[49m\u001b[43m,\u001b[49m\u001b[43m \u001b[49m\u001b[43mimgpoints2\u001b[49m\u001b[43m,\u001b[49m\u001b[43m \u001b[49m\n\u001b[1;32m      4\u001b[0m \u001b[43m    \u001b[49m\u001b[43mcameraMatrix\u001b[49m\u001b[43m,\u001b[49m\u001b[43m \u001b[49m\u001b[43mdist\u001b[49m\u001b[43m,\u001b[49m\u001b[43m \u001b[49m\u001b[43mcameraMatrix\u001b[49m\u001b[43m,\u001b[49m\u001b[43m \u001b[49m\u001b[43mdist\u001b[49m\u001b[43m,\u001b[49m\n\u001b[1;32m      5\u001b[0m \u001b[43m      \u001b[49m\u001b[43m(\u001b[49m\u001b[38;5;241;43m1920\u001b[39;49m\u001b[43m,\u001b[49m\u001b[43m \u001b[49m\u001b[38;5;241;43m1080\u001b[39;49m\u001b[43m)\u001b[49m\u001b[43m,\u001b[49m\u001b[43m \u001b[49m\u001b[43mcriteria\u001b[49m\u001b[43m \u001b[49m\u001b[38;5;241;43m=\u001b[39;49m\u001b[43m \u001b[49m\u001b[43mcriteria\u001b[49m\u001b[43m,\u001b[49m\u001b[43m \u001b[49m\u001b[43mflags\u001b[49m\u001b[43m \u001b[49m\u001b[38;5;241;43m=\u001b[39;49m\u001b[43m \u001b[49m\u001b[43mcv2\u001b[49m\u001b[38;5;241;43m.\u001b[39;49m\u001b[43mCALIB_FIX_INTRINSIC\u001b[49m\u001b[43m)\u001b[49m\n",
      "\u001b[0;31merror\u001b[0m: OpenCV(4.9.0) /io/opencv/modules/calib3d/src/calibration.cpp:1088: error: (-215:Assertion failed) (count >= 4) || (count == 3 && useExtrinsicGuess) in function 'cvFindExtrinsicCameraParams2'\n"
     ]
    }
   ],
   "source": [
    "criteria = (cv2.TERM_CRITERIA_EPS + cv2.TERM_CRITERIA_MAX_ITER, 30, 0.01)\n",
    "R, T, E, F = cv2.stereoCalibrate(\n",
    "    objp, imgpoints1, imgpoints2, \n",
    "    cameraMatrix, dist, cameraMatrix, dist,\n",
    "      (1920, 1080), criteria = criteria, flags = cv2.CALIB_FIX_INTRINSIC)"
   ]
  },
  {
   "cell_type": "code",
   "execution_count": 26,
   "metadata": {},
   "outputs": [
    {
     "data": {
      "text/plain": [
       "array([[ 977.,  611.],\n",
       "       [ 843.,  513.],\n",
       "       [ 686.,  618.],\n",
       "       [ 671.,  534.],\n",
       "       [ 801.,  452.],\n",
       "       [ 896.,  519.],\n",
       "       [ 894.,  465.],\n",
       "       [ 951.,  427.],\n",
       "       [ 878.,  379.],\n",
       "       [ 800.,  428.],\n",
       "       [ 793.,  358.],\n",
       "       [ 613.,  237.],\n",
       "       [ 756.,  166.],\n",
       "       [ 878.,  105.],\n",
       "       [1285.,  320.],\n",
       "       [1011.,  517.],\n",
       "       [ 674.,  290.],\n",
       "       [ 471.,  398.],\n",
       "       [ 434.,  264.],\n",
       "       [ 620.,  125.],\n",
       "       [ 736.,   72.],\n",
       "       [ 938.,  183.],\n",
       "       [ 941.,  449.],\n",
       "       [1184.,  611.],\n",
       "       [1026.,  742.],\n",
       "       [ 660.,  461.],\n",
       "       [ 933.,  298.],\n",
       "       [ 931.,  184.],\n",
       "       [1237.,  353.],\n",
       "       [ 987.,  532.],\n",
       "       [ 983.,  756.]], dtype=float32)"
      ]
     },
     "execution_count": 26,
     "metadata": {},
     "output_type": "execute_result"
    }
   ],
   "source": [
    "np.array(data[:,0], np.float32)"
   ]
  },
  {
   "cell_type": "code",
   "execution_count": 29,
   "metadata": {},
   "outputs": [],
   "source": [
    "mat, mask = cv2.findFundamentalMat(np.array(data[:,0], np.float32),np.array(data[:,1], np.float32),cv2.FM_LMEDS,0,0)"
   ]
  },
  {
   "cell_type": "code",
   "execution_count": 30,
   "metadata": {},
   "outputs": [
    {
     "data": {
      "text/plain": [
       "array([[-6.33799911e-09, -4.90657277e-07, -5.21027244e-04],\n",
       "       [-5.11449030e-07,  1.58923539e-08, -6.45588452e-04],\n",
       "       [-5.13480680e-04,  1.59287618e-03,  1.00000000e+00]])"
      ]
     },
     "execution_count": 30,
     "metadata": {},
     "output_type": "execute_result"
    }
   ],
   "source": [
    "mat"
   ]
  },
  {
   "cell_type": "code",
   "execution_count": null,
   "metadata": {},
   "outputs": [],
   "source": []
  },
  {
   "cell_type": "markdown",
   "metadata": {},
   "source": []
  },
  {
   "cell_type": "code",
   "execution_count": null,
   "metadata": {},
   "outputs": [],
   "source": []
  }
 ],
 "metadata": {
  "kernelspec": {
   "display_name": "cv",
   "language": "python",
   "name": "python3"
  },
  "language_info": {
   "codemirror_mode": {
    "name": "ipython",
    "version": 3
   },
   "file_extension": ".py",
   "mimetype": "text/x-python",
   "name": "python",
   "nbconvert_exporter": "python",
   "pygments_lexer": "ipython3",
   "version": "3.8.10"
  }
 },
 "nbformat": 4,
 "nbformat_minor": 2
}
